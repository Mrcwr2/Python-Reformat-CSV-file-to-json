{
 "cells": [
  {
   "cell_type": "code",
   "execution_count": 2,
   "metadata": {},
   "outputs": [],
   "source": [
    "import pandas as pd\n",
    "import json"
   ]
  },
  {
   "cell_type": "code",
   "execution_count": 3,
   "metadata": {},
   "outputs": [
    {
     "name": "stdout",
     "output_type": "stream",
     "text": [
      "   Unnamed: 0                                               name  grape  \\\n",
      "0           0  1000 Stories Bourbon Barrel Aged Batch Blue Ca...    NaN   \n",
      "1           1  1000 Stories Bourbon Barrel Aged Gold Rush Red...    NaN   \n",
      "2           2  1000 Stories Bourbon Barrel Aged Gold Rush Red...    NaN   \n",
      "3           3    1000 Stories Bourbon Barrel Aged Zinfandel 2013    NaN   \n",
      "4           4    1000 Stories Bourbon Barrel Aged Zinfandel 2014    NaN   \n",
      "\n",
      "                    region   variety  rating  \\\n",
      "0    Mendocino, California  Red Wine    91.0   \n",
      "1               California  Red Wine    89.0   \n",
      "2               California  Red Wine    90.0   \n",
      "3  North Coast, California  Red Wine    91.0   \n",
      "4               California  Red Wine    90.0   \n",
      "\n",
      "                                               notes  \n",
      "0  This is a very special, limited release of 100...  \n",
      "1  The California Gold Rush was a period of coura...  \n",
      "2  The California Gold Rush was a period of coura...  \n",
      "3  The wine has a deep, rich purple color. An int...  \n",
      "4  Batch #004 is the first release of the 2014 vi...  \n"
     ]
    }
   ],
   "source": [
    "df = pd.read_csv('D:/wine-ratings.csv')\n",
    "print(df.head())"
   ]
  },
  {
   "cell_type": "code",
   "execution_count": 4,
   "metadata": {},
   "outputs": [
    {
     "name": "stdout",
     "output_type": "stream",
     "text": [
      "      Unnamed: 0                                             name  grape  \\\n",
      "5              5  1000 Stories Bourbon Barrel Aged Zinfandel 2016    NaN   \n",
      "47            47           689 Cellars Killer Drop Red Blend 2014    NaN   \n",
      "1629        1629           Andrew Murray Esperance Red Blend 2012    NaN   \n",
      "2896        2896           Au Bon Climat Isabelle Pinot Noir 2013    NaN   \n",
      "2897        2897           Au Bon Climat Isabelle Pinot Noir 2014    NaN   \n",
      "\n",
      "          region   variety  rating  \\\n",
      "5     California  Red Wine    91.0   \n",
      "47    California  Red Wine    91.0   \n",
      "1629  California  Red Wine    91.0   \n",
      "2896  California  Red Wine    91.0   \n",
      "2897  California  Red Wine    91.0   \n",
      "\n",
      "                                                  notes  \n",
      "5     1,000 Stories Bourbon barrel-aged Zinfandel is...  \n",
      "47    Our 2014 release of KILLER DROP brings togethe...  \n",
      "1629  This rich red is a blend of 60% Grenache, 25% ...  \n",
      "2896  Isabelle is comprised of only the best cuvees ...  \n",
      "2897  Isabelle is unlike any other Au Bon Climat Pin...  \n"
     ]
    }
   ],
   "source": [
    "df = df[(df['variety'] =='Red Wine') & (df['rating'] > 90) & (df['rating'] < 92) & (df['region'] == \"California\")]\n",
    "print(df.head())"
   ]
  },
  {
   "cell_type": "code",
   "execution_count": 8,
   "metadata": {},
   "outputs": [],
   "source": [
    "# save df as json\n",
    "\n",
    "df.to_json('D:/top_cali_red_wine.json')"
   ]
  }
 ],
 "metadata": {
  "kernelspec": {
   "display_name": "Python 3",
   "language": "python",
   "name": "python3"
  },
  "language_info": {
   "codemirror_mode": {
    "name": "ipython",
    "version": 3
   },
   "file_extension": ".py",
   "mimetype": "text/x-python",
   "name": "python",
   "nbconvert_exporter": "python",
   "pygments_lexer": "ipython3",
   "version": "3.7.1"
  }
 },
 "nbformat": 4,
 "nbformat_minor": 2
}
